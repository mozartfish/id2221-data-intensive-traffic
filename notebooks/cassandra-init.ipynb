{
 "cells": [
  {
   "cell_type": "markdown",
   "id": "18cd7faa-2041-4410-8398-8b0fd9e9a9dd",
   "metadata": {},
   "source": [
    "## Setup Cassandra"
   ]
  },
  {
   "cell_type": "code",
   "execution_count": 2,
   "id": "a182cffc-30c0-478d-a99e-b8e17c605f36",
   "metadata": {},
   "outputs": [],
   "source": [
    "from cassandra.cluster import Cluster\n",
    "from cassandra.policies import RetryPolicy\n",
    "import time\n",
    "import sys\n",
    "\n",
    "def wait_for_cassandra(max_retries=30):\n",
    "    \"\"\"Wait for Cassandra to be ready.\"\"\"\n",
    "    for i in range(max_retries):\n",
    "        try:\n",
    "            cluster = Cluster(['localhost'], port=9042)\n",
    "            session = cluster.connect()\n",
    "            print(\"Cassandra is ready!\")\n",
    "            cluster.shutdown()\n",
    "            return True\n",
    "        except Exception as e:\n",
    "            print(f\"Waiting for Cassandra... ({i+1}/{max_retries})\")\n",
    "            time.sleep(2)\n",
    "    return False"
   ]
  },
  {
   "cell_type": "markdown",
   "id": "a70d718c-2758-4967-832c-ca31abb5c7e7",
   "metadata": {},
   "source": [
    "## Create Table(s) Schema"
   ]
  },
  {
   "cell_type": "code",
   "execution_count": 3,
   "id": "23ad8f43-e7d2-46fc-93b0-1926fc7d5c3e",
   "metadata": {},
   "outputs": [],
   "source": [
    "def initialize_schema():\n",
    "    \"\"\"Create keyspace and table.\"\"\"\n",
    "    cluster = Cluster(['localhost'], port=9042)\n",
    "    session = cluster.connect()\n",
    "\n",
    "    # Create keyspace\n",
    "    print(\"Creating keyspace 'movie_ratings'...\")\n",
    "    session.execute(\"\"\"\n",
    "        CREATE KEYSPACE IF NOT EXISTS movie_ratings\n",
    "        WITH replication = {'class': 'SimpleStrategy', 'replication_factor': 1}\n",
    "    \"\"\")\n",
    "    print(\"Keyspace created!!\")\n",
    "\n",
    "    print(\"Dropping existing table if present...\")\n",
    "    try:\n",
    "        session.execute(\"DROP TABLE IF EXISTS movie_ratings.ratings\")\n",
    "        print(\"Old table dropped\")\n",
    "    except Exception as e:\n",
    "        print(f\"No existing table: {e}\")\n",
    "\n",
    "    print(\"Creating table 'ratings'...\")\n",
    "    session.execute(\"\"\"\n",
    "        CREATE TABLE movie_ratings.ratings (\n",
    "            \"UserId\" int,\n",
    "            \"MovieId\" int,\n",
    "            \"Rating\" double,\n",
    "            \"Timestamp\" bigint,\n",
    "            \"kafka_timestamp\" timestamp,\n",
    "            PRIMARY KEY (\"UserId\", \"MovieId\", \"Timestamp\")\n",
    "        )\n",
    "    \"\"\")\n",
    "    print(\"Table created\")\n",
    "\n",
    "    # Verify the schema\n",
    "    print(\"\\nVerifying column names...\")\n",
    "    session.set_keyspace('movie_ratings')\n",
    "    \n",
    "    rows = session.execute(\"\"\"\n",
    "        SELECT column_name FROM system_schema.columns \n",
    "        WHERE keyspace_name='movie_ratings' AND table_name='ratings'\n",
    "    \"\"\")\n",
    "    \n",
    "    print(\"Cassandra columns:\")\n",
    "    for row in rows:\n",
    "        print(f\"  - {row.column_name}\")\n",
    "\n",
    "    cluster.shutdown()\n",
    "    print(\"\\nCassandra initialization complete!\")"
   ]
  },
  {
   "cell_type": "markdown",
   "id": "8a83943f-c5b2-4be8-8d1c-ad22f4b2043f",
   "metadata": {},
   "source": [
    "## Run Cassandra Initialization"
   ]
  },
  {
   "cell_type": "code",
   "execution_count": 5,
   "id": "1267b517-def7-423d-8721-8c865dd344bb",
   "metadata": {},
   "outputs": [
    {
     "name": "stdout",
     "output_type": "stream",
     "text": [
      "Cassandra Initialization\n",
      "Cassandra is ready!\n",
      "Creating keyspace 'movie_ratings'...\n",
      "Keyspace created!!\n",
      "Dropping existing table if present...\n",
      "Old table dropped\n",
      "Creating table 'ratings'...\n",
      "Table created\n",
      "\n",
      "Verifying column names...\n",
      "Cassandra columns:\n",
      "  - MovieId\n",
      "  - Rating\n",
      "  - Timestamp\n",
      "  - UserId\n",
      "  - kafka_timestamp\n",
      "\n",
      "Cassandra initialization complete!\n"
     ]
    }
   ],
   "source": [
    "if __name__ == \"__main__\":\n",
    "    print(\"Cassandra Initialization\")\n",
    "    \n",
    "    if not wait_for_cassandra():\n",
    "        print(\"Failed to connect to Cassandra\")\n",
    "        sys.exit(1)\n",
    "    \n",
    "    initialize_schema()"
   ]
  },
  {
   "cell_type": "code",
   "execution_count": null,
   "id": "a5179bc9-1fb5-40db-85a4-82b66e042656",
   "metadata": {},
   "outputs": [],
   "source": []
  },
  {
   "cell_type": "code",
   "execution_count": null,
   "id": "3c09f82e-a1dd-45f1-a4ba-4a08dab926c8",
   "metadata": {},
   "outputs": [],
   "source": []
  }
 ],
 "metadata": {
  "kernelspec": {
   "display_name": "Python 3 (ipykernel)",
   "language": "python",
   "name": "python3"
  },
  "language_info": {
   "codemirror_mode": {
    "name": "ipython",
    "version": 3
   },
   "file_extension": ".py",
   "mimetype": "text/x-python",
   "name": "python",
   "nbconvert_exporter": "python",
   "pygments_lexer": "ipython3",
   "version": "3.11.5"
  }
 },
 "nbformat": 4,
 "nbformat_minor": 5
}
